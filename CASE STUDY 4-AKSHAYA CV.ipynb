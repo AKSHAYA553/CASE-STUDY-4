{
 "cells": [
  {
   "cell_type": "markdown",
   "id": "f4113eea",
   "metadata": {},
   "source": [
    "# Importing the pandas ,seaborn and matplotlib,stats librararies¶"
   ]
  },
  {
   "cell_type": "code",
   "execution_count": 14,
   "id": "30efde73",
   "metadata": {},
   "outputs": [],
   "source": [
    "import pandas as pd\n",
    "import numpy as np\n",
    "import matplotlib.pyplot as plt\n",
    "import seaborn as sns\n",
    "import scipy.stats as stat"
   ]
  },
  {
   "cell_type": "markdown",
   "id": "68e9830c",
   "metadata": {},
   "source": [
    "# Reading the Sales dataset"
   ]
  },
  {
   "cell_type": "code",
   "execution_count": 3,
   "id": "5a43e343",
   "metadata": {},
   "outputs": [
    {
     "data": {
      "text/html": [
       "<div>\n",
       "<style scoped>\n",
       "    .dataframe tbody tr th:only-of-type {\n",
       "        vertical-align: middle;\n",
       "    }\n",
       "\n",
       "    .dataframe tbody tr th {\n",
       "        vertical-align: top;\n",
       "    }\n",
       "\n",
       "    .dataframe thead th {\n",
       "        text-align: right;\n",
       "    }\n",
       "</style>\n",
       "<table border=\"1\" class=\"dataframe\">\n",
       "  <thead>\n",
       "    <tr style=\"text-align: right;\">\n",
       "      <th></th>\n",
       "      <th>Month</th>\n",
       "      <th>Region</th>\n",
       "      <th>Manager</th>\n",
       "      <th>Sales_before_digital_add(in $)</th>\n",
       "      <th>Sales_After_digital_add(in $)</th>\n",
       "    </tr>\n",
       "  </thead>\n",
       "  <tbody>\n",
       "    <tr>\n",
       "      <th>0</th>\n",
       "      <td>Month-1</td>\n",
       "      <td>Region - A</td>\n",
       "      <td>Manager - A</td>\n",
       "      <td>132921</td>\n",
       "      <td>270390</td>\n",
       "    </tr>\n",
       "    <tr>\n",
       "      <th>1</th>\n",
       "      <td>Month-2</td>\n",
       "      <td>Region - A</td>\n",
       "      <td>Manager - C</td>\n",
       "      <td>149559</td>\n",
       "      <td>223334</td>\n",
       "    </tr>\n",
       "    <tr>\n",
       "      <th>2</th>\n",
       "      <td>Month-3</td>\n",
       "      <td>Region - B</td>\n",
       "      <td>Manager - A</td>\n",
       "      <td>146278</td>\n",
       "      <td>244243</td>\n",
       "    </tr>\n",
       "    <tr>\n",
       "      <th>3</th>\n",
       "      <td>Month-4</td>\n",
       "      <td>Region - B</td>\n",
       "      <td>Manager - B</td>\n",
       "      <td>152167</td>\n",
       "      <td>231808</td>\n",
       "    </tr>\n",
       "    <tr>\n",
       "      <th>4</th>\n",
       "      <td>Month-5</td>\n",
       "      <td>Region - C</td>\n",
       "      <td>Manager - B</td>\n",
       "      <td>159525</td>\n",
       "      <td>258402</td>\n",
       "    </tr>\n",
       "  </tbody>\n",
       "</table>\n",
       "</div>"
      ],
      "text/plain": [
       "     Month      Region      Manager  Sales_before_digital_add(in $)  \\\n",
       "0  Month-1  Region - A  Manager - A                          132921   \n",
       "1  Month-2  Region - A  Manager - C                          149559   \n",
       "2  Month-3  Region - B  Manager - A                          146278   \n",
       "3  Month-4  Region - B  Manager - B                          152167   \n",
       "4  Month-5  Region - C  Manager - B                          159525   \n",
       "\n",
       "   Sales_After_digital_add(in $)  \n",
       "0                         270390  \n",
       "1                         223334  \n",
       "2                         244243  \n",
       "3                         231808  \n",
       "4                         258402  "
      ]
     },
     "execution_count": 3,
     "metadata": {},
     "output_type": "execute_result"
    }
   ],
   "source": [
    "data=pd.read_csv(\"Sales_add.csv\")\n",
    "data.head(5)"
   ]
  },
  {
   "cell_type": "code",
   "execution_count": 4,
   "id": "57c8d0d4",
   "metadata": {},
   "outputs": [
    {
     "name": "stdout",
     "output_type": "stream",
     "text": [
      "<class 'pandas.core.frame.DataFrame'>\n",
      "RangeIndex: 22 entries, 0 to 21\n",
      "Data columns (total 5 columns):\n",
      " #   Column                          Non-Null Count  Dtype \n",
      "---  ------                          --------------  ----- \n",
      " 0   Month                           22 non-null     object\n",
      " 1   Region                          22 non-null     object\n",
      " 2   Manager                         22 non-null     object\n",
      " 3   Sales_before_digital_add(in $)  22 non-null     int64 \n",
      " 4   Sales_After_digital_add(in $)   22 non-null     int64 \n",
      "dtypes: int64(2), object(3)\n",
      "memory usage: 1008.0+ bytes\n"
     ]
    }
   ],
   "source": [
    "data.info()"
   ]
  },
  {
   "cell_type": "markdown",
   "id": "4fd8b1eb",
   "metadata": {},
   "source": []
  },
  {
   "cell_type": "markdown",
   "id": "ff4a197e",
   "metadata": {},
   "source": [
    "# Case Study on Testing of Hypothesis\n"
   ]
  },
  {
   "cell_type": "markdown",
   "id": "e4911aff",
   "metadata": {},
   "source": [
    "A company started to invest in digital marketing as a new way of their product\n",
    "promotions.For that they collected data and decided to carry out a study on it.\n",
    "● The company wishes to clarify whether there is any increase in sales after\n",
    "stepping into digital marketing.\n",
    "● The company needs to check whether there is any dependency between the\n",
    "features “Region” and “Manager”.\n",
    "Help the company to carry out their study with the help of data provided."
   ]
  },
  {
   "cell_type": "markdown",
   "id": "4478dea9",
   "metadata": {},
   "source": [
    "# To clarify whether there is any increase in sales after stepping into digital marketing"
   ]
  },
  {
   "cell_type": "code",
   "execution_count": 7,
   "id": "05f1b3cb",
   "metadata": {},
   "outputs": [
    {
     "data": {
      "text/plain": [
       "149239.95454545456"
      ]
     },
     "execution_count": 7,
     "metadata": {},
     "output_type": "execute_result"
    }
   ],
   "source": [
    "data['Sales_before_digital_add(in $)'].mean()\n"
   ]
  },
  {
   "cell_type": "code",
   "execution_count": 8,
   "id": "6068e502",
   "metadata": {},
   "outputs": [
    {
     "data": {
      "text/plain": [
       "231123.72727272726"
      ]
     },
     "execution_count": 8,
     "metadata": {},
     "output_type": "execute_result"
    }
   ],
   "source": [
    "data['Sales_After_digital_add(in $)'].mean()\n"
   ]
  },
  {
   "cell_type": "markdown",
   "id": "bd7126b6",
   "metadata": {},
   "source": [
    "So here we have found out the mean for the data before digital marketing amd mean for the data after digital marketing..Mean before digital marketing is found to be 149239.95454545456 and mean after digital markrting is found to be 231123.72727272726."
   ]
  },
  {
   "cell_type": "code",
   "execution_count": 33,
   "id": "ab6a4e34",
   "metadata": {},
   "outputs": [
    {
     "name": "stdout",
     "output_type": "stream",
     "text": [
      "T statistic value= 12.09070525287017\n",
      "p value= 3.168333502287889e-11\n"
     ]
    }
   ],
   "source": [
    "\n",
    "\n",
    "t_stat,p_value=stat.ttest_rel(data['Sales_After_digital_add(in $)'],data['Sales_before_digital_add(in $)'],alternative='greater')\n",
    "print('T statistic value=',t_stat)\n",
    "print('p value=',p_value)\n"
   ]
  },
  {
   "cell_type": "code",
   "execution_count": 34,
   "id": "de68ecda",
   "metadata": {},
   "outputs": [
    {
     "name": "stdout",
     "output_type": "stream",
     "text": [
      "Reject H0,sales didn't increase\n"
     ]
    }
   ],
   "source": [
    "\n",
    "if p_value<=0.05:\n",
    "    print(\"Reject H0,sales didn't increase\")\n",
    "else:\n",
    "     print(\"Accept H0,sales has increased\")\n",
    " "
   ]
  },
  {
   "cell_type": "markdown",
   "id": "2d33a29f",
   "metadata": {},
   "source": [
    "Here H0 is null hypothesis and H1 is alternative hypothesis.\n",
    "H0(Null Hypothesis):Mean Sales after stepping into digital marketing > Mean Sales before stepping into digital marketing.\n",
    "H1(Alternate Hypothesis):Mean Sales after stepping into digital marketing <= Mean Sales before stepping into digital marketing."
   ]
  },
  {
   "cell_type": "markdown",
   "id": "6457a2ea",
   "metadata": {},
   "source": [
    "So based on this it is found that there is no increase in the sales after stepping into digital marketing."
   ]
  },
  {
   "cell_type": "markdown",
   "id": "03c08f56",
   "metadata": {},
   "source": [
    "# The company needs to check whether there is any dependency between the features “Region” and “Manager”."
   ]
  },
  {
   "cell_type": "code",
   "execution_count": 19,
   "id": "2857006f",
   "metadata": {},
   "outputs": [
    {
     "name": "stdout",
     "output_type": "stream",
     "text": [
      "Region       Region - A  Region - B  Region - C\n",
      "Manager                                        \n",
      "Manager - A           4           4           1\n",
      "Manager - B           3           1           3\n",
      "Manager - C           3           2           1\n"
     ]
    }
   ],
   "source": [
    "data2=pd.crosstab(data['Manager'],data['Region'])\n",
    "print(data2)"
   ]
  },
  {
   "cell_type": "code",
   "execution_count": 21,
   "id": "863c88a2",
   "metadata": {},
   "outputs": [],
   "source": [
    "val=stat.chi2_contingency(data2)"
   ]
  },
  {
   "cell_type": "code",
   "execution_count": 22,
   "id": "2cdb9ec3",
   "metadata": {},
   "outputs": [],
   "source": [
    "expected=val[3]"
   ]
  },
  {
   "cell_type": "code",
   "execution_count": 23,
   "id": "6ac3f070",
   "metadata": {},
   "outputs": [
    {
     "data": {
      "text/plain": [
       "array([[4.09090909, 2.86363636, 2.04545455],\n",
       "       [3.18181818, 2.22727273, 1.59090909],\n",
       "       [2.72727273, 1.90909091, 1.36363636]])"
      ]
     },
     "execution_count": 23,
     "metadata": {},
     "output_type": "execute_result"
    }
   ],
   "source": [
    "expected"
   ]
  },
  {
   "cell_type": "code",
   "execution_count": 25,
   "id": "a0ac128f",
   "metadata": {},
   "outputs": [
    {
     "name": "stdout",
     "output_type": "stream",
     "text": [
      "Degree Of Freedom: 1\n"
     ]
    }
   ],
   "source": [
    "no_of_row=len(data2.iloc[0:2,0])\n",
    "no_of_col=len(data2.iloc[0,0:2])\n",
    "dof=(no_of_row-1)*(no_of_col-1)\n",
    "print('Degree Of Freedom:',dof)"
   ]
  },
  {
   "cell_type": "code",
   "execution_count": 26,
   "id": "318ac2c3",
   "metadata": {},
   "outputs": [
    {
     "name": "stdout",
     "output_type": "stream",
     "text": [
      "Chi-Square Statistic= 1.1712018140589566\n"
     ]
    }
   ],
   "source": [
    "from scipy.stats import chi2\n",
    "chi_sq=sum([(o-e)**2./e for o,e in zip(observed,expected)])\n",
    "chi_stat=chi_sq[0]+chi_sq[1]\n",
    "print('Chi-Square Statistic=',chi_stat)"
   ]
  },
  {
   "cell_type": "code",
   "execution_count": 28,
   "id": "c5322a63",
   "metadata": {},
   "outputs": [
    {
     "name": "stdout",
     "output_type": "stream",
     "text": [
      "Critical Value= 3.841458820694124\n"
     ]
    }
   ],
   "source": [
    "critical_value=chi2.ppf(q=1-0.05,df=dof)\n",
    "print('Critical Value=',critical_value)"
   ]
  },
  {
   "cell_type": "code",
   "execution_count": 29,
   "id": "2ac5437c",
   "metadata": {},
   "outputs": [
    {
     "name": "stdout",
     "output_type": "stream",
     "text": [
      "P Value= 0.720845562353432\n",
      "Significance Level 0.05\n",
      "Degree of Freedom 1\n"
     ]
    }
   ],
   "source": [
    "p_value=chi2.cdf(x=chi_stat,df=dof)\n",
    "print('P Value=',p_value)\n",
    "print('Significance Level',0.05)\n",
    "print('Degree of Freedom',dof)"
   ]
  },
  {
   "cell_type": "code",
   "execution_count": 30,
   "id": "b3de8812",
   "metadata": {},
   "outputs": [
    {
     "name": "stdout",
     "output_type": "stream",
     "text": [
      "Accept H0,both are dependent\n"
     ]
    }
   ],
   "source": [
    "if p_value<=0.05:\n",
    "    print('Reject H0,both are independent')\n",
    "else:\n",
    "     print('Accept H0,both are dependent')"
   ]
  },
  {
   "cell_type": "markdown",
   "id": "a9ba6fd9",
   "metadata": {},
   "source": [
    " Here,H0: 'Region' and 'Manager' are independent\n",
    " H1: 'Region' and 'Manager' are dependent \n",
    " \n",
    " so both variables region and manager are dependent"
   ]
  },
  {
   "cell_type": "code",
   "execution_count": null,
   "id": "d07bfe03",
   "metadata": {},
   "outputs": [],
   "source": []
  }
 ],
 "metadata": {
  "kernelspec": {
   "display_name": "Python 3",
   "language": "python",
   "name": "python3"
  },
  "language_info": {
   "codemirror_mode": {
    "name": "ipython",
    "version": 3
   },
   "file_extension": ".py",
   "mimetype": "text/x-python",
   "name": "python",
   "nbconvert_exporter": "python",
   "pygments_lexer": "ipython3",
   "version": "3.8.8"
  }
 },
 "nbformat": 4,
 "nbformat_minor": 5
}
